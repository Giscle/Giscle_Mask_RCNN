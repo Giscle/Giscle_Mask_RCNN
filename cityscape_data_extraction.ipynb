{
 "cells": [
  {
   "cell_type": "code",
   "execution_count": 45,
   "metadata": {
    "collapsed": true
   },
   "outputs": [],
   "source": [
    "import os\n",
    "import json\n",
    "import numpy as np\n",
    "import time\n",
    "import pickle\n",
    "import pandas as pd\n",
    "from PIL import Image, ImageDraw\n",
    "import math\n",
    "import random\n",
    "import cv2\n",
    "\n",
    "from config import Config\n",
    "import utils"
   ]
  },
  {
   "cell_type": "code",
   "execution_count": 2,
   "metadata": {
    "collapsed": true
   },
   "outputs": [],
   "source": [
    "HOME = os.getcwd()\n",
    "IMAGE_DIR = os.path.join(HOME,\"giscle-segmentation/leftImg8bit\")\n",
    "ANN_DIR = os.path.join(HOME,\"giscle-segmentation/gtFine\")"
   ]
  },
  {
   "cell_type": "code",
   "execution_count": 33,
   "metadata": {},
   "outputs": [],
   "source": [
    "def image_ann_paths(ret = True, pickle_files = False):\n",
    "    \"\"\"creates dictionaries for path to images and annotation files\n",
    "    optional pickle files can be created\n",
    "    \"\"\"\n",
    "    image_dct = {}\n",
    "    ann_dct = {}\n",
    "    for directory in [\"train\",\"val\",\"test\"]:\n",
    "        images = []\n",
    "        ann = []\n",
    "        image_path = os.path.join(IMAGE_DIR, directory)\n",
    "        ann_path = os.path.join(ANN_DIR, directory)\n",
    "        cities = [d for d in os.listdir(image_path)]\n",
    "        for city in cities:\n",
    "            print(\"appending data: {} city from {} directory\".format(city,directory))\n",
    "            city_path = os.path.join(image_path, city)\n",
    "            city_ann_path = os.path.join(ann_path, city)\n",
    "            for file in os.listdir(city_path):\n",
    "                images.append(os.path.join(city_path,file))\n",
    "                filename = \"_\".join(file.split(\"_\")[:3])\n",
    "                filename += \"_gtFine_polygons.json\"\n",
    "                ann.append(os.path.join(city_ann_path, filename))\n",
    "        image_dct[directory] = images\n",
    "        ann_dct[directory] = ann\n",
    "        \n",
    "        if pickle_files:\n",
    "            pickle.dump(images,open(\"image_{}.pickle\".format(directory), \"wb\"))\n",
    "            pickle.dump(ann,open(\"ann_{}.pickle\".format(directory), \"wb\"))\n",
    "    if ret:        \n",
    "        return image_dct, ann_dct"
   ]
  },
  {
   "cell_type": "code",
   "execution_count": 35,
   "metadata": {},
   "outputs": [
    {
     "name": "stdout",
     "output_type": "stream",
     "text": [
      "appending data: aachen city from train directory\n",
      "appending data: bochum city from train directory\n",
      "appending data: bremen city from train directory\n",
      "appending data: cologne city from train directory\n",
      "appending data: darmstadt city from train directory\n",
      "appending data: dusseldorf city from train directory\n",
      "appending data: erfurt city from train directory\n",
      "appending data: hamburg city from train directory\n",
      "appending data: hanover city from train directory\n",
      "appending data: jena city from train directory\n",
      "appending data: krefeld city from train directory\n",
      "appending data: monchengladbach city from train directory\n",
      "appending data: strasbourg city from train directory\n",
      "appending data: stuttgart city from train directory\n",
      "appending data: tubingen city from train directory\n",
      "appending data: ulm city from train directory\n",
      "appending data: weimar city from train directory\n",
      "appending data: zurich city from train directory\n",
      "appending data: frankfurt city from val directory\n",
      "appending data: lindau city from val directory\n",
      "appending data: munster city from val directory\n",
      "appending data: berlin city from test directory\n",
      "appending data: bielefeld city from test directory\n",
      "appending data: bonn city from test directory\n",
      "appending data: leverkusen city from test directory\n",
      "appending data: mainz city from test directory\n",
      "appending data: munich city from test directory\n"
     ]
    }
   ],
   "source": [
    "images, annotations = image_ann_paths(pickle_files=True)"
   ]
  },
  {
   "cell_type": "code",
   "execution_count": 28,
   "metadata": {},
   "outputs": [],
   "source": [
    "images = pickle.load(open(\"image_train.pickle\", \"rb\"))\n",
    "annotations = pickle.load(open(\"ann_train.pickle\", \"rb\"))\n",
    "labels = ['bicycle', 'bicyclegroup', 'bridge', 'building', 'bus', 'car',\n",
    "        'caravan', 'cargroup', 'dynamic', 'ego vehicle', 'fence', 'ground',\n",
    "          'guard rail', 'license plate', 'motorcycle', 'motorcyclegroup',\n",
    "          'out of roi', 'parking', 'person', 'persongroup', 'pole',\n",
    "          'polegroup', 'rail track', 'rectification border', 'rider',\n",
    "          'ridergroup', 'road', 'sidewalk', 'sky', 'static', 'terrain',\n",
    "          'traffic light', 'traffic sign', 'trailer', 'train', 'truck',\n",
    "          'truckgroup', 'tunnel', 'vegetation', 'wall']"
   ]
  },
  {
   "cell_type": "code",
   "execution_count": 29,
   "metadata": {},
   "outputs": [
    {
     "data": {
      "text/plain": [
       "40"
      ]
     },
     "execution_count": 29,
     "metadata": {},
     "output_type": "execute_result"
    }
   ],
   "source": [
    "len(labels)"
   ]
  },
  {
   "cell_type": "code",
   "execution_count": 58,
   "metadata": {},
   "outputs": [
    {
     "name": "stdout",
     "output_type": "stream",
     "text": [
      "76\n"
     ]
    },
    {
     "data": {
      "text/plain": [
       "<matplotlib.image.AxesImage at 0x7f06d8ac4240>"
      ]
     },
     "execution_count": 58,
     "metadata": {},
     "output_type": "execute_result"
    },
    {
     "data": {
      "image/png": "[encoded data removed]",
      "text/plain": [
       "<matplotlib.figure.Figure at 0x7f06d8af56a0>"
      ]
     },
     "metadata": {},
     "output_type": "display_data"
    }
   ],
   "source": [
    "image_path = '/home/object_detection/automagic/Giscle_Mask_RCNN/giscle-segmentation/leftImg8bit/train/erfurt/erfurt_000016_000019_leftImg8bit.png'\n",
    "#image_path = dataset.image_info[image_id]['path']\n",
    "image_path = image_path.replace(\"leftImg8bit\",\"gtFine\")\n",
    "image_path = image_path.replace(\".png\", \"_polygons.json\")\n",
    "\n",
    "dct = json.load(open(image_path,'r'))\n",
    "num_instances = len(dct['objects'])\n",
    "print(num_instances)\n",
    "width = 2048\n",
    "height = 1024\n",
    "\n",
    "instance_masks = []\n",
    "class_ids = []\n",
    "\n",
    "for i in range(num_instances):\n",
    "    instance = dct['objects'][i]\n",
    "    class_ids.append(instance['label'])\n",
    "    poly = instance['polygon']\n",
    "    polygon = [tuple(pt) for pt in poly]\n",
    "    img = Image.new('L', (width, height), 0)\n",
    "    ImageDraw.Draw(img).polygon(polygon, outline=1, fill=1)\n",
    "    mask = np.array(img)\n",
    "    instance_masks.append(mask)\n",
    "    \n",
    "import matplotlib.pyplot as plt\n",
    "plt.imshow(instance_masks[74], cmap = 'gray')\n"
   ]
  },
  {
   "cell_type": "code",
   "execution_count": 39,
   "metadata": {},
   "outputs": [
    {
     "data": {
      "text/plain": [
       "'/home/object_detection/automagic/Giscle_Mask_RCNN/giscle-segmentation/gtFine/train/erfurt/erfurt_000016_000019_gtFine.png'"
      ]
     },
     "execution_count": 39,
     "metadata": {},
     "output_type": "execute_result"
    }
   ],
   "source": [
    "\"/home/object_detection/automagic/Giscle_Mask_RCNN/giscle-segmentation/leftImg8bit/train/erfurt/erfurt_000016_000019_leftImg8bit.png\".replace(\"leftImg8bit\",\"gtFine\")"
   ]
  },
  {
   "cell_type": "code",
   "execution_count": 38,
   "metadata": {},
   "outputs": [
    {
     "data": {
      "text/plain": [
       "array([[[ 0.,  0.,  0., ...,  0.,  0.,  0.],\n",
       "        [ 0.,  0.,  0., ...,  0.,  0.,  0.],\n",
       "        [ 0.,  0.,  0., ...,  0.,  0.,  0.],\n",
       "        ..., \n",
       "        [ 0.,  0.,  0., ...,  0.,  0.,  0.],\n",
       "        [ 0.,  0.,  0., ...,  0.,  0.,  0.],\n",
       "        [ 0.,  0.,  0., ...,  0.,  0.,  0.]],\n",
       "\n",
       "       [[ 0.,  0.,  0., ...,  0.,  0.,  0.],\n",
       "        [ 0.,  0.,  0., ...,  0.,  0.,  0.],\n",
       "        [ 0.,  0.,  0., ...,  0.,  0.,  0.],\n",
       "        ..., \n",
       "        [ 0.,  0.,  0., ...,  0.,  0.,  0.],\n",
       "        [ 0.,  0.,  0., ...,  0.,  0.,  0.],\n",
       "        [ 0.,  0.,  0., ...,  0.,  0.,  0.]],\n",
       "\n",
       "       [[ 0.,  0.,  0., ...,  0.,  0.,  0.],\n",
       "        [ 0.,  0.,  0., ...,  0.,  0.,  0.],\n",
       "        [ 0.,  0.,  0., ...,  0.,  0.,  0.],\n",
       "        ..., \n",
       "        [ 0.,  0.,  0., ...,  0.,  0.,  0.],\n",
       "        [ 0.,  0.,  0., ...,  0.,  0.,  0.],\n",
       "        [ 0.,  0.,  0., ...,  0.,  0.,  0.]],\n",
       "\n",
       "       ..., \n",
       "       [[ 0.,  0.,  0., ...,  0.,  0.,  0.],\n",
       "        [ 0.,  0.,  0., ...,  0.,  0.,  0.],\n",
       "        [ 0.,  0.,  0., ...,  0.,  0.,  0.],\n",
       "        ..., \n",
       "        [ 0.,  0.,  0., ...,  0.,  0.,  0.],\n",
       "        [ 0.,  0.,  0., ...,  0.,  0.,  0.],\n",
       "        [ 0.,  0.,  0., ...,  0.,  0.,  0.]],\n",
       "\n",
       "       [[ 0.,  0.,  0., ...,  0.,  0.,  0.],\n",
       "        [ 0.,  0.,  0., ...,  0.,  0.,  0.],\n",
       "        [ 0.,  0.,  0., ...,  0.,  0.,  0.],\n",
       "        ..., \n",
       "        [ 0.,  0.,  0., ...,  0.,  0.,  0.],\n",
       "        [ 0.,  0.,  0., ...,  0.,  0.,  0.],\n",
       "        [ 0.,  0.,  0., ...,  0.,  0.,  0.]],\n",
       "\n",
       "       [[ 0.,  0.,  0., ...,  0.,  0.,  0.],\n",
       "        [ 0.,  0.,  0., ...,  0.,  0.,  0.],\n",
       "        [ 0.,  0.,  0., ...,  0.,  0.,  0.],\n",
       "        ..., \n",
       "        [ 0.,  0.,  0., ...,  0.,  0.,  0.],\n",
       "        [ 0.,  0.,  0., ...,  0.,  0.,  0.],\n",
       "        [ 0.,  0.,  0., ...,  0.,  0.,  0.]]])"
      ]
     },
     "execution_count": 38,
     "metadata": {},
     "output_type": "execute_result"
    }
   ],
   "source": []
  },
  {
   "cell_type": "code",
   "execution_count": null,
   "metadata": {
    "collapsed": true
   },
   "outputs": [],
   "source": [
    "class CityscapesConfig(Config):\n",
    "    \"\"\"Configuration for training on the toy shapes dataset.\n",
    "    Derives from the base Config class and overrides values specific\n",
    "    to the toy shapes dataset.\n",
    "    \"\"\"\n",
    "    # Give the configuration a recognizable name\n",
    "    NAME = \"cityscapes\"\n",
    "\n",
    "    # Train on 1 GPU and 8 images per GPU. We can put multiple images on each\n",
    "    # GPU because the images are small. Batch size is 8 (GPUs * images/GPU).\n",
    "    GPU_COUNT = 1\n",
    "    IMAGES_PER_GPU = 1\n",
    "\n",
    "    # Number of classes (including background)\n",
    "    NUM_CLASSES = 1 + 40  # background + 3 shapes\n",
    "    \n",
    "    IMAGE_MIN_DIM = 1024\n",
    "    IMAGE_MAX_DIM = 2048\n",
    "    \n",
    "config = CityscapesConfig()\n",
    "config.display()"
   ]
  },
  {
   "cell_type": "code",
   "execution_count": null,
   "metadata": {
    "collapsed": true
   },
   "outputs": [],
   "source": [
    "class CityscapesDataset(utils.Dataset):\n",
    "    \"\"\"Generates the shapes synthetic dataset. The dataset consists of simple\n",
    "    shapes (triangles, squares, circles) placed randomly on a blank surface.\n",
    "    The images are generated on the fly. No file access required.\n",
    "    \"\"\"\n",
    "\n",
    "    def load_cityscapes(self, count, height, width):\n",
    "        \"\"\"Generate the requested number of synthetic images.\n",
    "        count: number of images to generate.\n",
    "        height, width: the size of the generated images.\n",
    "        \"\"\"\n",
    "        # Add classes\n",
    "        for class_id, class_name in enumerate(set(labels)):\n",
    "            self.add_class(\"cityscapes\", i + 1, class_name)\n",
    "\n",
    "        # Add images\n",
    "        for i, path in enumerate(images):\n",
    "            self.add_image(\"cityscapes\", image_id=i, path=path)\n",
    "            \n",
    "    def image_reference(self, image_id):\n",
    "        \"\"\"Return the shapes data of the image.\"\"\"\n",
    "        info = self.image_info[image_id]\n",
    "        if info[\"source\"] == \"cityscapes\":\n",
    "            return info[\"cityscapes\"]\n",
    "        else:\n",
    "            super(self.__class__).image_reference(self, image_id)\n",
    "            \n",
    "    #def load_mask(self, image_id):\n",
    "        #return mask, image_ids"
   ]
  },
  {
   "cell_type": "code",
   "execution_count": null,
   "metadata": {
    "collapsed": true
   },
   "outputs": [],
   "source": []
  },
  {
   "cell_type": "code",
   "execution_count": 2,
   "metadata": {
    "collapsed": true
   },
   "outputs": [],
   "source": [
    "HOME = os.getcwd()\n",
    "TRAIN_DIR = os.path.join(HOME,\"giscle-segmentation/gtFine/train\")\n",
    "VAL_DIR = os.path.join(HOME,\"giscle-segmentation/gtFine/val\")\n",
    "TEST_DIR = os.path.join(HOME,\"giscle-segmentation/gtFine/test\")"
   ]
  },
  {
   "cell_type": "code",
   "execution_count": 3,
   "metadata": {},
   "outputs": [
    {
     "name": "stdout",
     "output_type": "stream",
     "text": [
      "Completed City: aachen in 58.18095064163208 seconds\n",
      "Completed City: bochum in 31.292467832565308 seconds\n",
      "Completed City: bremen in 137.78446984291077 seconds\n",
      "Completed City: cologne in 48.679110288619995 seconds\n",
      "Completed City: darmstadt in 27.125713109970093 seconds\n",
      "Completed City: dusseldorf in 72.1172513961792 seconds\n",
      "Completed City: erfurt in 33.49720287322998 seconds\n",
      "Completed City: hamburg in 88.28056287765503 seconds\n",
      "Completed City: hanover in 61.13814949989319 seconds\n",
      "Completed City: jena in 36.827719926834106 seconds\n",
      "Completed City: krefeld in 31.215543031692505 seconds\n",
      "Completed City: monchengladbach in 29.03677749633789 seconds\n",
      "Completed City: strasbourg in 149.84083199501038 seconds\n",
      "Completed City: stuttgart in 60.55497908592224 seconds\n",
      "Completed City: tubingen in 44.53620362281799 seconds\n",
      "Completed City: ulm in 29.37749481201172 seconds\n",
      "Completed City: weimer in 0.6938295364379883 seconds\n",
      "Completed City: zurich in 37.43911528587341 seconds\n",
      "Completed Directory train\n",
      "Completed City: frankfurt in 93.9693751335144 seconds\n",
      "Completed City: lindau in 18.787169694900513 seconds\n",
      "Completed City: munster in 54.34024524688721 seconds\n",
      "Completed Directory val\n",
      "Completed City: berlin in 222.8697075843811 seconds\n",
      "Completed City: bielefeld in 55.81099796295166 seconds\n",
      "Completed City: bonn in 14.747859239578247 seconds\n",
      "Completed City: leverkusen in 18.81237292289734 seconds\n",
      "Completed City: mainz in 107.01541566848755 seconds\n",
      "Completed City: munich in 152.89809608459473 seconds\n",
      "Completed Directory test\n"
     ]
    }
   ],
   "source": [
    "def pickle_data(color_file = \"color.pickle\", label_file = \"labels.pickle\", \n",
    "                polygon_file = \"polygons.pickle\"):\n",
    "    colors = []\n",
    "    labels = []\n",
    "    polygons = []\n",
    "    for directory in [TRAIN_DIR,VAL_DIR,TEST_DIR]:\n",
    "        cities = [d for d in os.listdir(directory) if d != 'placeholder.txt']\n",
    "        for city in cities:\n",
    "            tic = time.time()\n",
    "            city_path = os.path.join(directory, city)\n",
    "            json_files = [j for j in os.listdir(city_path) if j[-4:] == 'json']\n",
    "            for file in json_files:\n",
    "                j = os.path.join(city_path,file)\n",
    "                with open(j,'r') as f:\n",
    "                    dct = json.load(f)\n",
    "                    for i in range(len(dct['objects'])):\n",
    "                        colors.append(j)\n",
    "                        objects = dct['objects'][i]\n",
    "                        labels.append(objects['label'])\n",
    "                        polygons.append(objects['polygon'])\n",
    "            print(\"Completed City:\",city,\"in\",str(time.time() - tic),\"seconds\")\n",
    "        print(\"Completed Directory\", directory.split(\"/\")[-1])\n",
    "    pickle.dump(colors,open(color_file, \"wb\"))\n",
    "    pickle.dump(labels, open(label_file, \"wb\"))\n",
    "    pickle.dump(polygons, open(polygon_file, \"wb\"))\n",
    "    \n",
    "    \n",
    "pickle_image_data()"
   ]
  },
  {
   "cell_type": "code",
   "execution_count": null,
   "metadata": {
    "collapsed": true
   },
   "outputs": [],
   "source": []
  },
  {
   "cell_type": "code",
   "execution_count": null,
   "metadata": {
    "collapsed": true
   },
   "outputs": [],
   "source": [
    "def pickle_rois(roi_file = \"roi.pickle\")\n",
    "    rois = []\n",
    "    count = 0\n",
    "    for poly in polygons:\n",
    "        polygon = [tuple(pt) for pt in poly]\n",
    "        xs = [x for x,y in polygon]\n",
    "        ys = [y for x,y in polygon]\n",
    "        x_min = np.min(xs)\n",
    "        x_max = np.max(xs)\n",
    "        y_min = np.min(ys)\n",
    "        y_max = np.max(ys)\n",
    "        roi = [x_min,y_min,x_max,y_max]\n",
    "        roi.append(rois)\n",
    "        count += 1\n",
    "        if count % 50000 == 0:\n",
    "            print('{} more rois to process'.format(len(polygons) - count))\n",
    "\n",
    "    pickle.dump(rois,open(roi_file, \"wb\"))\n",
    "    \n",
    "    \n",
    "pickle_rois()"
   ]
  }
 ],
 "metadata": {
  "kernelspec": {
   "display_name": "Python 3.5 (tensorflow)",
   "language": "python",
   "name": "tensorflow"
  },
  "language_info": {
   "codemirror_mode": {
    "name": "ipython",
    "version": 3
   },
   "file_extension": ".py",
   "mimetype": "text/x-python",
   "name": "python",
   "nbconvert_exporter": "python",
   "pygments_lexer": "ipython3",
   "version": "3.5.4"
  }
 },
 "nbformat": 4,
 "nbformat_minor": 2
}
